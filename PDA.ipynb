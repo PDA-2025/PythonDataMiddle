{
 "cells": [
  {
   "cell_type": "code",
   "execution_count": 16,
   "id": "f800c047-af28-4664-88d9-5a758fe03a4e",
   "metadata": {},
   "outputs": [
    {
     "name": "stdout",
     "output_type": "stream",
     "text": [
      "\n",
      "\n"
     ]
    }
   ],
   "source": [
    "# 파이썬데이터분석 중간 발표\n",
    "# 202104309 이진용 / 202104247 유민우 / 202104389 황형진\n",
    "# 주제 : 2017년도 서울특별시 기상별 사고율 데이터 분석\n",
    "# 데이터 출처 \n",
    "# 기상 데이터 : https://data.kma.go.kr/data/grnd/selectAsosRltmList.do?pgmNo=36\n",
    "# 교통사고 데이터 : https://www.data.go.kr/data/15094191/fileData.do?recommendDataYn=Y"
   ]
  },
  {
   "cell_type": "code",
   "execution_count": 24,
   "id": "82becd56",
   "metadata": {},
   "outputs": [
    {
     "name": "stdout",
     "output_type": "stream",
     "text": [
      "             날짜  강수량(mm)\n",
      "0    2017-01-01      0.0\n",
      "1    2017-01-02      0.3\n",
      "2    2017-01-03      0.0\n",
      "3    2017-01-04      0.0\n",
      "4    2017-01-05      0.0\n",
      "..          ...      ...\n",
      "360  2017-12-27      0.0\n",
      "361  2017-12-28      0.0\n",
      "362  2017-12-29      0.0\n",
      "363  2017-12-30      0.5\n",
      "364  2017-12-31      0.2\n",
      "\n",
      "[365 rows x 2 columns]\n"
     ]
    }
   ],
   "source": [
    "import pandas as pd\n",
    "\n",
    "# 서울시 2017년 일자별 날씨 현황 데이터 불러오기 \n",
    "df = pd.read_csv('/Users/hwanghyeongjin/Desktop/PDA_ver1.0/서울특별시 일별 기상.csv', encoding='cp949')\n",
    "\n",
    "# 일시를 datatime 형식으로 변환\n",
    "df['일시'] = pd.to_datetime(df['일시'], format='%Y.%m.%d %H:%M')\n",
    "\n",
    "\n",
    "df['날짜'] = df['일시'].dt.date\n",
    "df['강수량(mm)'] = pd.to_numeric(df['강수량(mm)'], errors='coerce').fillna(0)\n",
    "\n",
    "# groupby로 날짜와 강수량 묶기\n",
    "df_daily = df.groupby('날짜')['강수량(mm)'].sum().reset_index()\n",
    "\n",
    "print(df_daily)"
   ]
  },
  {
   "cell_type": "code",
   "execution_count": 26,
   "id": "d8062a36",
   "metadata": {},
   "outputs": [
    {
     "name": "stdout",
     "output_type": "stream",
     "text": [
      "          일자  서울발생건수  서울사망자수  서울부상자수  강수량(mm)\n",
      "0 2017-01-01      73       2     125      0.0\n",
      "1 2017-01-02      82       4     136      0.3\n",
      "2 2017-01-03      88       1     118      0.0\n",
      "3 2017-01-04     115       1     163      0.0\n",
      "4 2017-01-05     103       1     153      0.0\n"
     ]
    }
   ],
   "source": [
    "import pandas as pd\n",
    "\n",
    "# 교통사고 데이터 불러오기\n",
    "df_accident = pd.read_excel('/Users/hwanghyeongjin/Desktop/PDA_ver1.0/seoul_car_accident.xlsx')\n",
    "\n",
    "#'일자'를 datetime 형식으로 변환\n",
    "df_accident['일자'] = pd.to_datetime(df_accident['일자'], format='%Y%m%d')\n",
    "\n",
    "# 날씨 데이터 준비\n",
    "df_daily['날짜'] = pd.to_datetime(df_daily['날짜'], format='%Y-%m-%d')\n",
    "df_weather = df_daily.rename(columns={'날짜': '일자'})\n",
    "\n",
    "# 데이터 병합 (df_weather)\n",
    "df_merged = pd.merge(df_accident, df_weather, on='일자', how='inner')\n",
    "\n",
    "# 결과 출력\n",
    "print(df_merged.head())"
   ]
  },
  {
   "cell_type": "code",
   "execution_count": 28,
   "id": "a02dd840",
   "metadata": {},
   "outputs": [
    {
     "name": "stdout",
     "output_type": "stream",
     "text": [
      "          서울발생건수    서울사망자수      서울부상자수\n",
      "비옴여부                                  \n",
      "비안옴   106.946768  0.977186  148.490494\n",
      "비옴    102.921569  0.843137  144.676471\n"
     ]
    }
   ],
   "source": [
    "# 1. '비가 온 날'과 '안 온 날' 구분\n",
    "# 강수량(mm)이 0보다 크면 비 온 날\n",
    "df_merged['비옴여부'] = df_merged['강수량(mm)'].apply(lambda x: '비옴' if x > 0 else '비안옴')\n",
    "\n",
    "# 2. 그룹별 평균 계산\n",
    "grouped = df_merged.groupby('비옴여부')[['서울발생건수', '서울사망자수', '서울부상자수']].mean()\n",
    "\n",
    "# 3. 결과 출력\n",
    "print(grouped)"
   ]
  },
  {
   "cell_type": "code",
   "execution_count": 30,
   "id": "f2996d0a",
   "metadata": {},
   "outputs": [
    {
     "name": "stdout",
     "output_type": "stream",
     "text": [
      "                     서울발생건수    서울사망자수      서울부상자수\n",
      "강수량구간                                            \n",
      "0mm (맑음)         106.946768  0.977186  148.490494\n",
      "0.1~5mm (약한 비)   100.691176  0.852941  142.500000\n",
      "5.1~20mm (보통 비)  106.444444  0.666667  146.166667\n",
      "20mm 이상 (강한 비)   108.437500  1.000000  152.250000\n"
     ]
    },
    {
     "name": "stderr",
     "output_type": "stream",
     "text": [
      "/var/folders/2l/qbkgdpjj0gdfj5sl82smp9ww0000gn/T/ipykernel_35258/2460916080.py:8: FutureWarning: The default of observed=False is deprecated and will be changed to True in a future version of pandas. Pass observed=False to retain current behavior or observed=True to adopt the future default and silence this warning.\n",
      "  grouped_by_rain = df_merged.groupby('강수량구간')[['서울발생건수', '서울사망자수', '서울부상자수']].mean()\n"
     ]
    }
   ],
   "source": [
    "# 1. 강수량 구간 설정\n",
    "bins = [-0.1, 0, 5, 20, float('inf')]  # (주의: 0mm를 따로 구분하기 위해 -0.1 시작)\n",
    "labels = ['0mm (맑음)', '0.1~5mm (약한 비)', '5.1~20mm (보통 비)', '20mm 이상 (강한 비)']\n",
    "\n",
    "df_merged['강수량구간'] = pd.cut(df_merged['강수량(mm)'], bins=bins, labels=labels)\n",
    "\n",
    "# 2. 구간별 평균 사고 통계 계산\n",
    "grouped_by_rain = df_merged.groupby('강수량구간')[['서울발생건수', '서울사망자수', '서울부상자수']].mean()\n",
    "\n",
    "# 3. 결과 출력\n",
    "print(grouped_by_rain)"
   ]
  },
  {
   "cell_type": "code",
   "execution_count": null,
   "id": "610580a0-89df-49f4-afd0-3c9ac43144e0",
   "metadata": {},
   "outputs": [],
   "source": []
  }
 ],
 "metadata": {
  "kernelspec": {
   "display_name": "Python [conda env:base] *",
   "language": "python",
   "name": "conda-base-py"
  },
  "language_info": {
   "codemirror_mode": {
    "name": "ipython",
    "version": 3
   },
   "file_extension": ".py",
   "mimetype": "text/x-python",
   "name": "python",
   "nbconvert_exporter": "python",
   "pygments_lexer": "ipython3",
   "version": "3.12.7"
  }
 },
 "nbformat": 4,
 "nbformat_minor": 5
}
